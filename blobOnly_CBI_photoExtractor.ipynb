{
  "nbformat": 4,
  "nbformat_minor": 0,
  "metadata": {
    "colab": {
      "provenance": [],
      "gpuType": "T4",
      "authorship_tag": "ABX9TyMjqUmswqgTtW6mn7BJpWiD",
      "include_colab_link": true
    },
    "kernelspec": {
      "name": "python3",
      "display_name": "Python 3"
    },
    "language_info": {
      "name": "python"
    },
    "accelerator": "GPU"
  },
  "cells": [
    {
      "cell_type": "markdown",
      "metadata": {
        "id": "view-in-github",
        "colab_type": "text"
      },
      "source": [
        "<a href=\"https://colab.research.google.com/github/bikas1012/Face-Mask-detector-using-Deep-Learning/blob/master/blobOnly_CBI_photoExtractor.ipynb\" target=\"_parent\"><img src=\"https://colab.research.google.com/assets/colab-badge.svg\" alt=\"Open In Colab\"/></a>"
      ]
    },
    {
      "cell_type": "code",
      "execution_count": 1,
      "metadata": {
        "colab": {
          "base_uri": "https://localhost:8080/"
        },
        "id": "znlID9EW1_AA",
        "outputId": "356c1780-cc46-4db5-b4d7-b46e6aa3381d"
      },
      "outputs": [
        {
          "output_type": "stream",
          "name": "stdout",
          "text": [
            "Collecting PyMuPDF\n",
            "  Downloading PyMuPDF-1.24.5-cp310-none-manylinux2014_x86_64.whl (3.5 MB)\n",
            "\u001b[2K     \u001b[90m━━━━━━━━━━━━━━━━━━━━━━━━━━━━━━━━━━━━━━━━\u001b[0m \u001b[32m3.5/3.5 MB\u001b[0m \u001b[31m20.5 MB/s\u001b[0m eta \u001b[36m0:00:00\u001b[0m\n",
            "\u001b[?25hCollecting pytesseract\n",
            "  Downloading pytesseract-0.3.10-py3-none-any.whl (14 kB)\n",
            "Requirement already satisfied: Pillow in /usr/local/lib/python3.10/dist-packages (9.4.0)\n",
            "Collecting PyMuPDFb==1.24.3 (from PyMuPDF)\n",
            "  Downloading PyMuPDFb-1.24.3-py3-none-manylinux2014_x86_64.manylinux_2_17_x86_64.whl (15.8 MB)\n",
            "\u001b[2K     \u001b[90m━━━━━━━━━━━━━━━━━━━━━━━━━━━━━━━━━━━━━━━━\u001b[0m \u001b[32m15.8/15.8 MB\u001b[0m \u001b[31m49.1 MB/s\u001b[0m eta \u001b[36m0:00:00\u001b[0m\n",
            "\u001b[?25hRequirement already satisfied: packaging>=21.3 in /usr/local/lib/python3.10/dist-packages (from pytesseract) (24.0)\n",
            "Installing collected packages: pytesseract, PyMuPDFb, PyMuPDF\n",
            "Successfully installed PyMuPDF-1.24.5 PyMuPDFb-1.24.3 pytesseract-0.3.10\n"
          ]
        }
      ],
      "source": [
        "!pip install PyMuPDF pytesseract Pillow"
      ]
    },
    {
      "cell_type": "code",
      "source": [
        "!apt-get install tesseract-ocr\n",
        "!apt-get install libtesseract-dev"
      ],
      "metadata": {
        "colab": {
          "base_uri": "https://localhost:8080/"
        },
        "id": "s74Pey713uLC",
        "outputId": "c69253da-0545-4783-a9a6-3b3987512dca"
      },
      "execution_count": 2,
      "outputs": [
        {
          "output_type": "stream",
          "name": "stdout",
          "text": [
            "Reading package lists... Done\n",
            "Building dependency tree... Done\n",
            "Reading state information... Done\n",
            "The following additional packages will be installed:\n",
            "  tesseract-ocr-eng tesseract-ocr-osd\n",
            "The following NEW packages will be installed:\n",
            "  tesseract-ocr tesseract-ocr-eng tesseract-ocr-osd\n",
            "0 upgraded, 3 newly installed, 0 to remove and 45 not upgraded.\n",
            "Need to get 4,816 kB of archives.\n",
            "After this operation, 15.6 MB of additional disk space will be used.\n",
            "Get:1 http://archive.ubuntu.com/ubuntu jammy/universe amd64 tesseract-ocr-eng all 1:4.00~git30-7274cfa-1.1 [1,591 kB]\n",
            "Get:2 http://archive.ubuntu.com/ubuntu jammy/universe amd64 tesseract-ocr-osd all 1:4.00~git30-7274cfa-1.1 [2,990 kB]\n",
            "Get:3 http://archive.ubuntu.com/ubuntu jammy/universe amd64 tesseract-ocr amd64 4.1.1-2.1build1 [236 kB]\n",
            "Fetched 4,816 kB in 5s (980 kB/s)\n",
            "Selecting previously unselected package tesseract-ocr-eng.\n",
            "(Reading database ... 121918 files and directories currently installed.)\n",
            "Preparing to unpack .../tesseract-ocr-eng_1%3a4.00~git30-7274cfa-1.1_all.deb ...\n",
            "Unpacking tesseract-ocr-eng (1:4.00~git30-7274cfa-1.1) ...\n",
            "Selecting previously unselected package tesseract-ocr-osd.\n",
            "Preparing to unpack .../tesseract-ocr-osd_1%3a4.00~git30-7274cfa-1.1_all.deb ...\n",
            "Unpacking tesseract-ocr-osd (1:4.00~git30-7274cfa-1.1) ...\n",
            "Selecting previously unselected package tesseract-ocr.\n",
            "Preparing to unpack .../tesseract-ocr_4.1.1-2.1build1_amd64.deb ...\n",
            "Unpacking tesseract-ocr (4.1.1-2.1build1) ...\n",
            "Setting up tesseract-ocr-eng (1:4.00~git30-7274cfa-1.1) ...\n",
            "Setting up tesseract-ocr-osd (1:4.00~git30-7274cfa-1.1) ...\n",
            "Setting up tesseract-ocr (4.1.1-2.1build1) ...\n",
            "Processing triggers for man-db (2.10.2-1) ...\n",
            "Reading package lists... Done\n",
            "Building dependency tree... Done\n",
            "Reading state information... Done\n",
            "The following additional packages will be installed:\n",
            "  libarchive-dev libleptonica-dev\n",
            "The following NEW packages will be installed:\n",
            "  libarchive-dev libleptonica-dev libtesseract-dev\n",
            "0 upgraded, 3 newly installed, 0 to remove and 45 not upgraded.\n",
            "Need to get 3,743 kB of archives.\n",
            "After this operation, 16.0 MB of additional disk space will be used.\n",
            "Get:1 http://archive.ubuntu.com/ubuntu jammy/main amd64 libarchive-dev amd64 3.6.0-1ubuntu1 [581 kB]\n",
            "Get:2 http://archive.ubuntu.com/ubuntu jammy/universe amd64 libleptonica-dev amd64 1.82.0-3build1 [1,562 kB]\n",
            "Get:3 http://archive.ubuntu.com/ubuntu jammy/universe amd64 libtesseract-dev amd64 4.1.1-2.1build1 [1,600 kB]\n",
            "Fetched 3,743 kB in 2s (1,505 kB/s)\n",
            "Selecting previously unselected package libarchive-dev:amd64.\n",
            "(Reading database ... 121965 files and directories currently installed.)\n",
            "Preparing to unpack .../libarchive-dev_3.6.0-1ubuntu1_amd64.deb ...\n",
            "Unpacking libarchive-dev:amd64 (3.6.0-1ubuntu1) ...\n",
            "Selecting previously unselected package libleptonica-dev.\n",
            "Preparing to unpack .../libleptonica-dev_1.82.0-3build1_amd64.deb ...\n",
            "Unpacking libleptonica-dev (1.82.0-3build1) ...\n",
            "Selecting previously unselected package libtesseract-dev:amd64.\n",
            "Preparing to unpack .../libtesseract-dev_4.1.1-2.1build1_amd64.deb ...\n",
            "Unpacking libtesseract-dev:amd64 (4.1.1-2.1build1) ...\n",
            "Setting up libleptonica-dev (1.82.0-3build1) ...\n",
            "Setting up libarchive-dev:amd64 (3.6.0-1ubuntu1) ...\n",
            "Setting up libtesseract-dev:amd64 (4.1.1-2.1build1) ...\n",
            "Processing triggers for man-db (2.10.2-1) ...\n"
          ]
        }
      ]
    },
    {
      "cell_type": "code",
      "source": [
        "import fitz  # PyMuPDF\n",
        "import pytesseract\n",
        "from PIL import Image\n",
        "import io\n",
        "import os\n",
        "\n",
        "# Install Tesseract\n",
        "!apt-get install -y tesseract-ocr\n",
        "!apt-get install -y libtesseract-dev\n",
        "\n",
        "# Install required Python libraries\n",
        "!pip install pytesseract PyMuPDF Pillow\n",
        "\n",
        "# Path to the Tesseract executable\n",
        "pytesseract.pytesseract.tesseract_cmd = r'/usr/bin/tesseract'\n",
        "\n",
        "def extract_text_and_images_from_pdf(pdf_path, output_text_path, output_image_folder):\n",
        "    # Create the output image folder if it doesn't exist\n",
        "    os.makedirs(output_image_folder, exist_ok=True)\n",
        "\n",
        "    # Get the base file name without extension for naming images\n",
        "    base_file_name = os.path.splitext(os.path.basename(pdf_path))[0]\n",
        "\n",
        "    # Open the PDF file\n",
        "    pdf_document = fitz.open(pdf_path)\n",
        "    extracted_text = \"\"\n",
        "\n",
        "    # Iterate through each page\n",
        "    for page_number in range(len(pdf_document)):\n",
        "        page = pdf_document.load_page(page_number)\n",
        "\n",
        "        # Extract text directly if available\n",
        "        page_text = page.get_text()\n",
        "        extracted_text += f\"--- Page {page_number + 1} ---\\n\"\n",
        "        extracted_text += page_text + \"\\n\"\n",
        "\n",
        "        # If there are images, perform OCR on them\n",
        "        for img_index, img in enumerate(page.get_images(full=True)):\n",
        "            xref = img[0]\n",
        "            base_image = pdf_document.extract_image(xref)\n",
        "            image_bytes = base_image[\"image\"]\n",
        "            img = Image.open(io.BytesIO(image_bytes))\n",
        "\n",
        "            # Save the image to the output folder with the PDF file name included\n",
        "            image_filename = f\"{base_file_name}_page_{page_number + 1}_image_{img_index + 1}.png\"\n",
        "            image_path = os.path.join(output_image_folder, image_filename)\n",
        "            img.save(image_path)\n",
        "\n",
        "            # Perform OCR using pytesseract\n",
        "            ocr_text = pytesseract.image_to_string(img)\n",
        "            extracted_text += f\"\\n[OCR text from image {img_index + 1} on page {page_number + 1}]\\n\"\n",
        "            extracted_text += ocr_text + \"\\n\"\n",
        "\n",
        "    # Save the extracted text to the output text file\n",
        "    with open(output_text_path, 'w', encoding='utf-8') as text_file:\n",
        "        text_file.write(extracted_text)\n",
        "\n",
        "# Example usage\n",
        "pdf_path = '/content/TEST_BIKASfORM.pdf'  # Replace with your PDF file path\n",
        "output_text_path = 'extracted_text.txt'  # Replace with your desired text file path\n",
        "output_image_folder = 'extracted_images'  # Replace with your desired image folder\n",
        "\n",
        "extract_text_and_images_from_pdf(pdf_path, output_text_path, output_image_folder)\n",
        "print(f\"Text extracted to: {output_text_path}\")\n",
        "print(f\"Images saved in: {output_image_folder}\")\n"
      ],
      "metadata": {
        "colab": {
          "base_uri": "https://localhost:8080/"
        },
        "id": "pDvq_r6H3-5o",
        "outputId": "592e4af9-4e7b-42a0-b92e-5d818341e2d7"
      },
      "execution_count": null,
      "outputs": [
        {
          "output_type": "stream",
          "name": "stdout",
          "text": [
            "Reading package lists... Done\n",
            "Building dependency tree... Done\n",
            "Reading state information... Done\n",
            "tesseract-ocr is already the newest version (4.1.1-2.1build1).\n",
            "0 upgraded, 0 newly installed, 0 to remove and 45 not upgraded.\n",
            "Reading package lists... Done\n",
            "Building dependency tree... Done\n",
            "Reading state information... Done\n",
            "libtesseract-dev is already the newest version (4.1.1-2.1build1).\n",
            "0 upgraded, 0 newly installed, 0 to remove and 45 not upgraded.\n",
            "Requirement already satisfied: pytesseract in /usr/local/lib/python3.10/dist-packages (0.3.10)\n",
            "Requirement already satisfied: PyMuPDF in /usr/local/lib/python3.10/dist-packages (1.24.5)\n",
            "Requirement already satisfied: Pillow in /usr/local/lib/python3.10/dist-packages (9.4.0)\n",
            "Requirement already satisfied: packaging>=21.3 in /usr/local/lib/python3.10/dist-packages (from pytesseract) (24.0)\n",
            "Requirement already satisfied: PyMuPDFb==1.24.3 in /usr/local/lib/python3.10/dist-packages (from PyMuPDF) (1.24.3)\n",
            "Text extracted to: extracted_text.txt\n",
            "Images saved in: extracted_images\n"
          ]
        }
      ]
    },
    {
      "cell_type": "code",
      "source": [
        "!apt-get install -y tesseract-ocr\n",
        "!apt-get install -y libtesseract-dev\n",
        "!pip install pytesseract PyMuPDF Pillow"
      ],
      "metadata": {
        "colab": {
          "base_uri": "https://localhost:8080/"
        },
        "id": "ZDLNFkdS6hy1",
        "outputId": "f7a02e7b-7246-4a1d-98e6-1589722678ea"
      },
      "execution_count": 3,
      "outputs": [
        {
          "output_type": "stream",
          "name": "stdout",
          "text": [
            "Reading package lists... Done\n",
            "Building dependency tree... Done\n",
            "Reading state information... Done\n",
            "tesseract-ocr is already the newest version (4.1.1-2.1build1).\n",
            "0 upgraded, 0 newly installed, 0 to remove and 45 not upgraded.\n",
            "Reading package lists... Done\n",
            "Building dependency tree... Done\n",
            "Reading state information... Done\n",
            "libtesseract-dev is already the newest version (4.1.1-2.1build1).\n",
            "0 upgraded, 0 newly installed, 0 to remove and 45 not upgraded.\n",
            "Requirement already satisfied: pytesseract in /usr/local/lib/python3.10/dist-packages (0.3.10)\n",
            "Requirement already satisfied: PyMuPDF in /usr/local/lib/python3.10/dist-packages (1.24.5)\n",
            "Requirement already satisfied: Pillow in /usr/local/lib/python3.10/dist-packages (9.4.0)\n",
            "Requirement already satisfied: packaging>=21.3 in /usr/local/lib/python3.10/dist-packages (from pytesseract) (24.0)\n",
            "Requirement already satisfied: PyMuPDFb==1.24.3 in /usr/local/lib/python3.10/dist-packages (from PyMuPDF) (1.24.3)\n"
          ]
        }
      ]
    },
    {
      "cell_type": "code",
      "source": [
        "!apt-get install -y tesseract-ocr\n",
        "!apt-get install -y libtesseract-dev\n",
        "!pip install pytesseract PyMuPDF Pillow opencv-python-headless\n"
      ],
      "metadata": {
        "colab": {
          "base_uri": "https://localhost:8080/"
        },
        "id": "f2DvlEZ_Ay0D",
        "outputId": "948f5bbe-9a88-43bd-8f42-fed41a3830f7"
      },
      "execution_count": null,
      "outputs": [
        {
          "output_type": "stream",
          "name": "stdout",
          "text": [
            "Reading package lists... Done\n",
            "Building dependency tree... Done\n",
            "Reading state information... Done\n",
            "tesseract-ocr is already the newest version (4.1.1-2.1build1).\n",
            "0 upgraded, 0 newly installed, 0 to remove and 45 not upgraded.\n",
            "Reading package lists... Done\n",
            "Building dependency tree... Done\n",
            "Reading state information... Done\n",
            "libtesseract-dev is already the newest version (4.1.1-2.1build1).\n",
            "0 upgraded, 0 newly installed, 0 to remove and 45 not upgraded.\n",
            "Requirement already satisfied: pytesseract in /usr/local/lib/python3.10/dist-packages (0.3.10)\n",
            "Requirement already satisfied: PyMuPDF in /usr/local/lib/python3.10/dist-packages (1.24.5)\n",
            "Requirement already satisfied: Pillow in /usr/local/lib/python3.10/dist-packages (9.4.0)\n",
            "Requirement already satisfied: opencv-python-headless in /usr/local/lib/python3.10/dist-packages (4.9.0.80)\n",
            "Requirement already satisfied: packaging>=21.3 in /usr/local/lib/python3.10/dist-packages (from pytesseract) (24.0)\n",
            "Requirement already satisfied: PyMuPDFb==1.24.3 in /usr/local/lib/python3.10/dist-packages (from PyMuPDF) (1.24.3)\n",
            "Requirement already satisfied: numpy>=1.21.2 in /usr/local/lib/python3.10/dist-packages (from opencv-python-headless) (1.25.2)\n"
          ]
        }
      ]
    },
    {
      "cell_type": "code",
      "source": [
        "import fitz  # PyMuPDF\n",
        "import pytesseract\n",
        "from PIL import Image\n",
        "import io\n",
        "import os\n",
        "import cv2\n",
        "import numpy as np\n",
        "\n",
        "# Path to the Tesseract executable\n",
        "pytesseract.pytesseract.tesseract_cmd = r'/usr/bin/tesseract'\n",
        "\n",
        "# Load OpenCV pre-trained Haar cascade for face detection\n",
        "face_cascade = cv2.CascadeClassifier(cv2.data.haarcascades + 'haarcascade_frontalface_default.xml')\n",
        "\n",
        "def extract_text_and_face_images_from_pdf(pdf_path, output_text_path, common_image_folder):\n",
        "    # Create the common output image folder if it doesn't exist\n",
        "    os.makedirs(common_image_folder, exist_ok=True)\n",
        "\n",
        "    # Get the base file name without extension for naming images\n",
        "    base_file_name = os.path.splitext(os.path.basename(pdf_path))[0]\n",
        "\n",
        "    # Open the PDF file\n",
        "    pdf_document = fitz.open(pdf_path)\n",
        "    extracted_text = \"\"\n",
        "\n",
        "    # Iterate through each page\n",
        "    for page_number in range(len(pdf_document)):\n",
        "        page = pdf_document.load_page(page_number)\n",
        "\n",
        "        # Extract text directly if available\n",
        "        page_text = page.get_text()\n",
        "        extracted_text += f\"--- Page {page_number + 1} ---\\n\"\n",
        "        extracted_text += page_text + \"\\n\"\n",
        "\n",
        "        # If there are images, perform OCR on them and detect faces\n",
        "        for img_index, img in enumerate(page.get_images(full=True)):\n",
        "            xref = img[0]\n",
        "            base_image = pdf_document.extract_image(xref)\n",
        "            image_bytes = base_image[\"image\"]\n",
        "            img = Image.open(io.BytesIO(image_bytes))\n",
        "\n",
        "            # Convert PIL image to OpenCV format\n",
        "            open_cv_image = cv2.cvtColor(np.array(img), cv2.COLOR_RGB2BGR)\n",
        "\n",
        "            # Detect faces in the image\n",
        "            gray = cv2.cvtColor(open_cv_image, cv2.COLOR_BGR2GRAY)\n",
        "            faces = face_cascade.detectMultiScale(gray, scaleFactor=1.1, minNeighbors=5, minSize=(30, 30))\n",
        "\n",
        "            # If faces are detected, save the face images\n",
        "            for (x, y, w, h) in faces:\n",
        "                face_image = open_cv_image[y:y+h, x:x+w]\n",
        "                face_image_pil = Image.fromarray(cv2.cvtColor(face_image, cv2.COLOR_BGR2RGB))\n",
        "\n",
        "                # Save the face image to the common output folder with the PDF file name included\n",
        "                image_filename = f\"{base_file_name}_page_{page_number + 1}_face_{img_index + 1}.png\"\n",
        "                image_path = os.path.join(common_image_folder, image_filename)\n",
        "                face_image_pil.save(image_path)\n",
        "                print(f\"Saved face image to {image_path}\")\n",
        "\n",
        "            # Perform OCR using pytesseract on the full image\n",
        "            ocr_text = pytesseract.image_to_string(img)\n",
        "            extracted_text += f\"\\n[OCR text from image {img_index + 1} on page {page_number + 1}]\\n\"\n",
        "            extracted_text += ocr_text + \"\\n\"\n",
        "\n",
        "    # Save the extracted text to the output text file\n",
        "    with open(output_text_path, 'w', encoding='utf-8') as text_file:\n",
        "        text_file.write(extracted_text)\n",
        "\n",
        "def process_pdfs_in_folder(folder_path, common_image_folder):\n",
        "    # Get list of all PDF files in the folder\n",
        "    pdf_files = [os.path.join(folder_path, file) for file in os.listdir(folder_path) if file.lower().endswith('.pdf')]\n",
        "\n",
        "    # Loop through each PDF file\n",
        "    for pdf_path in pdf_files:\n",
        "        # Set output paths\n",
        "        output_text_path = f\"{os.path.splitext(os.path.basename(pdf_path))[0]}_extracted_text.txt\"\n",
        "\n",
        "        # Extract text and face images from the PDF file\n",
        "        extract_text_and_face_images_from_pdf(pdf_path, output_text_path, common_image_folder)\n",
        "        print(f\"Processed {pdf_path}:\")\n",
        "        print(f\"Text extracted to: {output_text_path}\")\n",
        "        print(f\"Face images saved in: {common_image_folder}\")\n",
        "\n",
        "# Example usage\n",
        "folder_path = '/content/samplePDFFile'  # Replace with your folder path containing PDF files\n",
        "common_image_folder = '/content/extracted_images/newerImages'  # Folder to save all extracted face images\n",
        "process_pdfs_in_folder(folder_path, common_image_folder)\n"
      ],
      "metadata": {
        "colab": {
          "base_uri": "https://localhost:8080/"
        },
        "id": "fWBEq0r9A3La",
        "outputId": "f3ef2bcd-62c3-435e-a0c7-1bf760cab75d"
      },
      "execution_count": null,
      "outputs": [
        {
          "output_type": "stream",
          "name": "stdout",
          "text": [
            "Saved face image to /content/extracted_images/newerImages/TEST_BIKASfORM_page_1_face_1.png\n",
            "Saved face image to /content/extracted_images/newerImages/TEST_BIKASfORM_page_1_face_1.png\n",
            "Processed /content/samplePDFFile/TEST_BIKASfORM.pdf:\n",
            "Text extracted to: TEST_BIKASfORM_extracted_text.txt\n",
            "Face images saved in: /content/extracted_images/newerImages\n",
            "Saved face image to /content/extracted_images/newerImages/Archana_Test_page_1_face_1.png\n",
            "Processed /content/samplePDFFile/Archana_Test.pdf:\n",
            "Text extracted to: Archana_Test_extracted_text.txt\n",
            "Face images saved in: /content/extracted_images/newerImages\n",
            "Saved face image to /content/extracted_images/newerImages/AbhiTestNew_page_1_face_1.png\n",
            "Processed /content/samplePDFFile/AbhiTestNew.pdf:\n",
            "Text extracted to: AbhiTestNew_extracted_text.txt\n",
            "Face images saved in: /content/extracted_images/newerImages\n",
            "Saved face image to /content/extracted_images/newerImages/Abhi_page_1_face_1.png\n",
            "Processed /content/samplePDFFile/Abhi.pdf:\n",
            "Text extracted to: Abhi_extracted_text.txt\n",
            "Face images saved in: /content/extracted_images/newerImages\n",
            "Saved face image to /content/extracted_images/newerImages/Amitabh_page_1_face_1.png\n",
            "Processed /content/samplePDFFile/Amitabh.pdf:\n",
            "Text extracted to: Amitabh_extracted_text.txt\n",
            "Face images saved in: /content/extracted_images/newerImages\n"
          ]
        }
      ]
    },
    {
      "cell_type": "code",
      "source": [
        "import fitz  # PyMuPDF\n",
        "from PIL import Image\n",
        "import io\n",
        "import os\n",
        "import cv2\n",
        "import numpy as np\n",
        "\n",
        "# Load OpenCV pre-trained Haar cascade for face detection\n",
        "face_cascade = cv2.CascadeClassifier(cv2.data.haarcascades + 'haarcascade_frontalface_default.xml')\n",
        "\n",
        "def extract_face_images_from_pdf(pdf_path, common_image_folder):\n",
        "    # Create the common output image folder if it doesn't exist\n",
        "    os.makedirs(common_image_folder, exist_ok=True)\n",
        "\n",
        "    # Get the base file name without extension for naming images\n",
        "    base_file_name = os.path.splitext(os.path.basename(pdf_path))[0]\n",
        "\n",
        "    # Open the PDF file\n",
        "    pdf_document = fitz.open(pdf_path)\n",
        "\n",
        "    # Iterate through each page\n",
        "    for page_number in range(len(pdf_document)):\n",
        "        page = pdf_document.load_page(page_number)\n",
        "\n",
        "        # Check for images on the page\n",
        "        for img_index, img in enumerate(page.get_images(full=True)):\n",
        "            xref = img[0]\n",
        "            base_image = pdf_document.extract_image(xref)\n",
        "            image_bytes = base_image[\"image\"]\n",
        "            img = Image.open(io.BytesIO(image_bytes))\n",
        "\n",
        "            # Convert PIL image to OpenCV format\n",
        "            open_cv_image = cv2.cvtColor(np.array(img), cv2.COLOR_RGB2BGR)\n",
        "\n",
        "            # Detect faces in the image\n",
        "            gray = cv2.cvtColor(open_cv_image, cv2.COLOR_BGR2GRAY)\n",
        "            faces = face_cascade.detectMultiScale(gray, scaleFactor=1.1, minNeighbors=5, minSize=(30, 30))\n",
        "\n",
        "            # If faces are detected, save the face images\n",
        "            for (x, y, w, h) in faces:\n",
        "                face_image = open_cv_image[y:y+h, x:x+w]\n",
        "                face_image_pil = Image.fromarray(cv2.cvtColor(face_image, cv2.COLOR_BGR2RGB))\n",
        "\n",
        "                # Save the face image to the common output folder with the PDF file name included\n",
        "                image_filename = f\"{base_file_name}_page_{page_number + 1}_face_{img_index + 1}.png\"\n",
        "                image_path = os.path.join(common_image_folder, image_filename)\n",
        "                face_image_pil.save(image_path)\n",
        "                print(f\"Saved face image to {image_path}\")\n",
        "\n",
        "def process_pdfs_in_folder(folder_path, common_image_folder):\n",
        "    # Get list of all PDF files in the folder\n",
        "    pdf_files = [os.path.join(folder_path, file) for file in os.listdir(folder_path) if file.lower().endswith('.pdf')]\n",
        "\n",
        "    # Loop through each PDF file\n",
        "    for pdf_path in pdf_files:\n",
        "        # Extract face images from the PDF file\n",
        "        extract_face_images_from_pdf(pdf_path, common_image_folder)\n",
        "        print(f\"Processed {pdf_path}\")\n",
        "\n",
        "# Example usage\n",
        "folder_path = '/content/pdf_files'  # Replace with your folder path containing PDF files\n",
        "common_image_folder = '/content/NewImages'  # Folder to save all extracted face images\n",
        "process_pdfs_in_folder(folder_path, common_image_folder)\n"
      ],
      "metadata": {
        "colab": {
          "base_uri": "https://localhost:8080/"
        },
        "id": "V__GhYZsCuFA",
        "outputId": "d585893f-b0c5-42cf-b29f-29126f54a3bc"
      },
      "execution_count": 4,
      "outputs": [
        {
          "output_type": "stream",
          "name": "stdout",
          "text": [
            "Saved face image to /content/NewImages/Archana_Test_page_1_face_1.png\n",
            "Processed /content/pdf_files/Archana_Test.pdf\n",
            "Saved face image to /content/NewImages/AbhiTestNew_page_1_face_1.png\n",
            "Processed /content/pdf_files/AbhiTestNew.pdf\n",
            "Saved face image to /content/NewImages/Abhi_page_1_face_1.png\n",
            "Processed /content/pdf_files/Abhi.pdf\n",
            "Saved face image to /content/NewImages/Amitabh_page_1_face_1.png\n",
            "Processed /content/pdf_files/Amitabh.pdf\n"
          ]
        }
      ]
    }
  ]
}